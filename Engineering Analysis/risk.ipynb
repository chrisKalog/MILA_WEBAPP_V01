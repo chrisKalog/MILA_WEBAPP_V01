{
 "cells": [
  {
   "cell_type": "code",
   "execution_count": 22,
   "metadata": {},
   "outputs": [
    {
     "name": "stdout",
     "output_type": "stream",
     "text": [
      "33.33333333333333\n",
      "133.33333333333331\n",
      "165.0\n",
      "168.33333333333334\n"
     ]
    }
   ],
   "source": [
    "low_risk = -4\n",
    "higher_risk=-1\n",
    "V_high=-0.05\n",
    "Too_high=0.05\n",
    "\n",
    "no_risk = -3\n",
    "\n",
    "def risk(prob, no_risk):\n",
    "    print( ((no_risk)-prob)/no_risk*100 )\n",
    "    \n",
    "\n",
    "risk(low_risk,no_risk)\n",
    "risk(higher_risk,no_risk)\n",
    "risk(V_high,no_risk)\n",
    "risk(Too_high,no_risk)\n"
   ]
  }
 ],
 "metadata": {
  "interpreter": {
   "hash": "efdca69d0ca37f3cd75811ff5af31778643cf0a6677105436e305cec4d2bd40a"
  },
  "kernelspec": {
   "display_name": "Python 3.8.3 64-bit",
   "language": "python",
   "name": "python3"
  },
  "language_info": {
   "codemirror_mode": {
    "name": "ipython",
    "version": 3
   },
   "file_extension": ".py",
   "mimetype": "text/x-python",
   "name": "python",
   "nbconvert_exporter": "python",
   "pygments_lexer": "ipython3",
   "version": "3.8.3"
  },
  "orig_nbformat": 4
 },
 "nbformat": 4,
 "nbformat_minor": 2
}
