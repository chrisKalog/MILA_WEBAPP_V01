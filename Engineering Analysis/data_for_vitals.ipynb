{
 "cells": [
  {
   "cell_type": "code",
   "execution_count": null,
   "metadata": {},
   "outputs": [],
   "source": []
  },
  {
   "cell_type": "markdown",
   "metadata": {},
   "source": [
    "# Data Required to Extract Vitals\n",
    "\n",
    "As the person goes through life, they accumulate audio/video data.\n",
    "\n",
    "This data is accumulated until there is enough to extract 1 set of vitals (heart rate, blood pressure, body temperature, breath rate).\n",
    "\n",
    "## We need to know how much data is required\n",
    "\n",
    "To find this there are lots of factors which you have already found\n",
    "\n",
    "eg How much video data from CCTV is useful\n",
    "\n",
    "The calculation would be:\n",
    "\n",
    "### STEP 1\n",
    "\n",
    "Useful Video Call Data = (videocall_data * (video_call_percentage_useful))\n",
    "\n",
    "Useful Phone Call Data = (phone_call_data * (phone_percentage_useful))\n",
    "\n",
    "Useful CCTV Data = (CCTV_data * (CCTV_percentage_useful))\n",
    "\n",
    "Total Useful = Useful Video + Useful Phone call + Useful CCTV\n",
    "\n",
    "### STEP 2\n",
    "\n",
    "data_requirement_for_face/voice_identification = X\n",
    "\n",
    "data_requirement_to_extract_vitals_from_face/voice = Y\n",
    "\n",
    "if (X>Y){\n",
    "    total_requirement = X\n",
    "} else if (Y>X){\n",
    "    total_requirement = Y\n",
    "}\n",
    "\n",
    "total_requirement\n",
    "\n",
    "### STEP 3 (Within the web app which I have written)\n",
    "\n",
    "if (total_requirement > Total Useful){\n",
    "    find_vitals()\n",
    "}\n",
    "\n"
   ]
  }
 ],
 "metadata": {
  "language_info": {
   "name": "python"
  },
  "orig_nbformat": 4
 },
 "nbformat": 4,
 "nbformat_minor": 2
}
